{
 "cells": [
  {
   "cell_type": "markdown",
   "metadata": {},
   "source": [
    "In this notebook, I hope to predict the value of the s&p500 - both numerical value, and classify if it is currently overvalued or undervalued using data from yahoo finance.  I chose s&p500 because I want to look at the market performance as a whole, as opposed to individual stocks.  Using yahoo finance API\n",
    "\n",
    "predict intraday price movement? -> last hour?\n",
    "price at open, price at 3pm, vix, volume, shorts (short squeeze), previous day price, 50/200 day moving average, avg volume, shares short, short ratio, short % of float, close price as dependent variable -> predict close price or predict pump/dump\n",
    "\n",
    "months of feb, march, april, may"
   ]
  },
  {
   "cell_type": "code",
   "execution_count": 1,
   "metadata": {},
   "outputs": [],
   "source": [
    "import yfinance as yf\n",
    "from pandas_datareader import data as pdr"
   ]
  },
  {
   "cell_type": "code",
   "execution_count": 3,
   "metadata": {},
   "outputs": [
    {
     "data": {
      "text/html": [
       "<div>\n",
       "<style scoped>\n",
       "    .dataframe tbody tr th:only-of-type {\n",
       "        vertical-align: middle;\n",
       "    }\n",
       "\n",
       "    .dataframe tbody tr th {\n",
       "        vertical-align: top;\n",
       "    }\n",
       "\n",
       "    .dataframe thead th {\n",
       "        text-align: right;\n",
       "    }\n",
       "</style>\n",
       "<table border=\"1\" class=\"dataframe\">\n",
       "  <thead>\n",
       "    <tr style=\"text-align: right;\">\n",
       "      <th></th>\n",
       "      <th>High</th>\n",
       "      <th>Low</th>\n",
       "      <th>Open</th>\n",
       "      <th>Close</th>\n",
       "      <th>Volume</th>\n",
       "      <th>Adj Close</th>\n",
       "    </tr>\n",
       "    <tr>\n",
       "      <th>Date</th>\n",
       "      <th></th>\n",
       "      <th></th>\n",
       "      <th></th>\n",
       "      <th></th>\n",
       "      <th></th>\n",
       "      <th></th>\n",
       "    </tr>\n",
       "  </thead>\n",
       "  <tbody>\n",
       "    <tr>\n",
       "      <td>2020-10-01</td>\n",
       "      <td>338.739990</td>\n",
       "      <td>335.010010</td>\n",
       "      <td>337.690002</td>\n",
       "      <td>337.040009</td>\n",
       "      <td>88698700</td>\n",
       "      <td>335.609406</td>\n",
       "    </tr>\n",
       "    <tr>\n",
       "      <td>2020-10-02</td>\n",
       "      <td>337.010010</td>\n",
       "      <td>331.190002</td>\n",
       "      <td>331.700012</td>\n",
       "      <td>333.839996</td>\n",
       "      <td>89431100</td>\n",
       "      <td>332.423004</td>\n",
       "    </tr>\n",
       "    <tr>\n",
       "      <td>2020-10-05</td>\n",
       "      <td>339.959991</td>\n",
       "      <td>336.010010</td>\n",
       "      <td>336.059998</td>\n",
       "      <td>339.760010</td>\n",
       "      <td>45713100</td>\n",
       "      <td>338.317871</td>\n",
       "    </tr>\n",
       "    <tr>\n",
       "      <td>2020-10-06</td>\n",
       "      <td>342.170013</td>\n",
       "      <td>334.380005</td>\n",
       "      <td>339.910004</td>\n",
       "      <td>334.929993</td>\n",
       "      <td>90128900</td>\n",
       "      <td>333.508362</td>\n",
       "    </tr>\n",
       "    <tr>\n",
       "      <td>2020-10-07</td>\n",
       "      <td>341.630005</td>\n",
       "      <td>338.089996</td>\n",
       "      <td>338.119995</td>\n",
       "      <td>340.760010</td>\n",
       "      <td>56999600</td>\n",
       "      <td>339.313629</td>\n",
       "    </tr>\n",
       "  </tbody>\n",
       "</table>\n",
       "</div>"
      ],
      "text/plain": [
       "                  High         Low        Open       Close    Volume  \\\n",
       "Date                                                                   \n",
       "2020-10-01  338.739990  335.010010  337.690002  337.040009  88698700   \n",
       "2020-10-02  337.010010  331.190002  331.700012  333.839996  89431100   \n",
       "2020-10-05  339.959991  336.010010  336.059998  339.760010  45713100   \n",
       "2020-10-06  342.170013  334.380005  339.910004  334.929993  90128900   \n",
       "2020-10-07  341.630005  338.089996  338.119995  340.760010  56999600   \n",
       "\n",
       "             Adj Close  \n",
       "Date                    \n",
       "2020-10-01  335.609406  \n",
       "2020-10-02  332.423004  \n",
       "2020-10-05  338.317871  \n",
       "2020-10-06  333.508362  \n",
       "2020-10-07  339.313629  "
      ]
     },
     "execution_count": 3,
     "metadata": {},
     "output_type": "execute_result"
    }
   ],
   "source": [
    "data = pdr.get_data_yahoo(\"SPY\", start=\"2020-10-01\", end=\"2020-10-10\")\n",
    "data.head()"
   ]
  },
  {
   "cell_type": "code",
   "execution_count": 1,
   "metadata": {},
   "outputs": [],
   "source": [
    "import iexfinance as iex"
   ]
  },
  {
   "cell_type": "code",
   "execution_count": 13,
   "metadata": {},
   "outputs": [
    {
     "data": {
      "text/plain": [
       "{'symbol': 'SPY',\n",
       " 'companyName': 'SPDR S&P 500 ETF Trust',\n",
       " 'primaryExchange': 'NYSE Arca',\n",
       " 'calculationPrice': 'close',\n",
       " 'open': 302.46,\n",
       " 'openTime': 1590759000204,\n",
       " 'openSource': 'official',\n",
       " 'close': 304.32,\n",
       " 'closeTime': 1590782400178,\n",
       " 'closeSource': 'official',\n",
       " 'high': 304.96,\n",
       " 'highTime': 1590791385908,\n",
       " 'highSource': '15 minute delayed price',\n",
       " 'low': 299.47,\n",
       " 'lowTime': 1590778121058,\n",
       " 'lowSource': '15 minute delayed price',\n",
       " 'latestPrice': 304.32,\n",
       " 'latestSource': 'Close',\n",
       " 'latestTime': 'May 29, 2020',\n",
       " 'latestUpdate': 1590782400178,\n",
       " 'latestVolume': 119030900,\n",
       " 'iexRealtimePrice': 305.5,\n",
       " 'iexRealtimeSize': 300,\n",
       " 'iexLastUpdated': 1590784229017,\n",
       " 'delayedPrice': 306.02,\n",
       " 'delayedPriceTime': 1590788833646,\n",
       " 'oddLotDelayedPrice': 304.02,\n",
       " 'oddLotDelayedPriceTime': 1590782399684,\n",
       " 'extendedPrice': 304.32,\n",
       " 'extendedChange': 0,\n",
       " 'extendedChangePercent': 0,\n",
       " 'extendedPriceTime': 1590796795675,\n",
       " 'previousClose': 302.97,\n",
       " 'previousVolume': 90767807,\n",
       " 'change': 1.35,\n",
       " 'changePercent': 0.00446,\n",
       " 'volume': 119030900,\n",
       " 'iexMarketPercent': 0.01141179621695913,\n",
       " 'iexVolume': 1352403,\n",
       " 'avgTotalVolume': 100190363,\n",
       " 'iexBidPrice': 0,\n",
       " 'iexBidSize': 0,\n",
       " 'iexAskPrice': 0,\n",
       " 'iexAskSize': 0,\n",
       " 'iexOpen': None,\n",
       " 'iexOpenTime': None,\n",
       " 'iexClose': 304.515,\n",
       " 'iexCloseTime': 1590782397946,\n",
       " 'marketCap': 275069405541,\n",
       " 'peRatio': None,\n",
       " 'week52High': 339.08,\n",
       " 'week52Low': 218.26,\n",
       " 'ytdChange': -0.062952,\n",
       " 'lastTradeTime': 1590782400623,\n",
       " 'isUSMarketOpen': False}"
      ]
     },
     "execution_count": 13,
     "metadata": {},
     "output_type": "execute_result"
    }
   ],
   "source": [
    "from iexfinance.stocks import Stock\n",
    "import os\n",
    "os.environ['IEX_TOKEN'] = \"pk_982200bb62e443c38bb0720224188172\"\n",
    "\n",
    "spy = Stock(\"SPY\")\n",
    "spy.get_quote()\n",
    "#aapl.get_price()"
   ]
  },
  {
   "cell_type": "code",
   "execution_count": null,
   "metadata": {},
   "outputs": [],
   "source": []
  }
 ],
 "metadata": {
  "kernelspec": {
   "display_name": "Python 3",
   "language": "python",
   "name": "python3"
  },
  "language_info": {
   "codemirror_mode": {
    "name": "ipython",
    "version": 3
   },
   "file_extension": ".py",
   "mimetype": "text/x-python",
   "name": "python",
   "nbconvert_exporter": "python",
   "pygments_lexer": "ipython3",
   "version": "3.7.4"
  }
 },
 "nbformat": 4,
 "nbformat_minor": 2
}
